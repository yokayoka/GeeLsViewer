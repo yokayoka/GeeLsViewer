{
 "cells": [
  {
   "cell_type": "markdown",
   "metadata": {},
   "source": [
    "Obtain satellite image after landslides in Global Landslide Catalog (see below site)\n",
    "for Sentinel-2 and Landsat-8\n",
    "https://catalog.data.gov/dataset/global-landslide-catalog-export\n",
    "by Hiromu Daimaru 06 Aug. 2020<br>\n",
    "Cloud masking argorithm was improved by Katsuto Shimizu (see below site)<br>\n",
    "https://developers.google.com/earth-engine/api_docs <br>\n",
    "This script requires geemap (see below site)<br>\n",
    "https://github.com/giswqs/earthengine-py-notebooks"
   ]
  },
  {
   "cell_type": "code",
   "execution_count": 1,
   "metadata": {},
   "outputs": [],
   "source": [
    "import geemap as emap\n",
    "import ee\n",
    "import datetime\n",
    "import pandas as pd\n",
    "import numpy as np\n",
    "ee.Initialize()"
   ]
  },
  {
   "cell_type": "code",
   "execution_count": 2,
   "metadata": {},
   "outputs": [],
   "source": [
    "# Function for cloud masking Sentinel-2 image\n",
    "def maskS2clouds(image):\n",
    "    qa = image.select('QA60')\n",
    "    #Bits 10 and 11 are clouds and cirrus, respectively.\n",
    "    cloudBitMask = ee.Number(2).pow(10).int()\n",
    "    cirrusBitMask = ee.Number(2).pow(11).int()\n",
    "    #Both flags should be set to zero, indicating clear conditions.\n",
    "\n",
    "    #Both flags should be set to zero, indicating clear conditions.\n",
    "    #var mask = qa.bitwiseAnd(cloudBitMask).eq(0).and(qa.bitwiseAnd(cirrusBitMask).eq(0))\n",
    "    \n",
    "    mask = qa.bitwiseAnd(cloudBitMask).eq(0).And(qa.bitwiseAnd(cirrusBitMask).eq(0))\n",
    "    \n",
    "    #Return the masked and scaled data, without the QA bands.\n",
    "    return image.updateMask(mask).divide(10000).select(\"B.*\").copyProperties(image, [\"system:time_start\"])\n",
    "\n",
    "# Cloud masking function by using cdi\n",
    "# https://developers.google.com/earth-engine/api_docs\n",
    "def s2_mask_cdi(img):\n",
    "    cdi = ee.Algorithms.Sentinel2.CDI(img).gt(-0.5)\n",
    "    return img.updateMask(cdi)"
   ]
  },
  {
   "cell_type": "code",
   "execution_count": 3,
   "metadata": {},
   "outputs": [],
   "source": [
    "# Landsat 8 TOAのための雲マスク関数\n",
    "def maskL8toa(image):\n",
    "    qa = image.select('BQA')\n",
    "    #Check that the cloud bit is off.\n",
    "    #See https://landsat.usgs.gov/collectionqualityband\n",
    "    mask = qa.bitwiseAnd(1 << 4).eq(0)\n",
    "    return image.updateMask(mask)"
   ]
  },
  {
   "cell_type": "code",
   "execution_count": 4,
   "metadata": {},
   "outputs": [],
   "source": [
    "#Landsat 4, 5, 7 surface reflectance 用のQA band による雲マスク関数\n",
    "def cloudMaskL457(image):\n",
    "  qa = image.select('pixel_qa')\n",
    "  # If the cloud bit (5) is set and the cloud confidence (7) is high\n",
    "  # or the cloud shadow bit is set (3), then it's a bad pixel.\n",
    "  cloud = qa.bitwiseAnd(1 << 5) \\\n",
    "          .And(qa.bitwiseAnd(1 << 7)) \\\n",
    "          .Or(qa.bitwiseAnd(1 << 3))\n",
    "  # Remove edge pixels that don't occur in all bands\n",
    "  mask2 = image.mask().reduce(ee.Reducer.min())\n",
    "  return image.updateMask(cloud.Not()).updateMask(mask2)"
   ]
  },
  {
   "cell_type": "code",
   "execution_count": 5,
   "metadata": {},
   "outputs": [],
   "source": [
    "#Sentinel-2 用のNDVI算出関数\n",
    "def ndviSn2(image):\n",
    "    return image.addBands(image.normalizedDifference(['B8', 'B4']))"
   ]
  },
  {
   "cell_type": "code",
   "execution_count": 6,
   "metadata": {},
   "outputs": [],
   "source": [
    "#Landsat 8 用のNDVI算出関数\n",
    "def ndviLs8(image):\n",
    "    return image.addBands(image.normalizedDifference(['B5', 'B4']))"
   ]
  },
  {
   "cell_type": "code",
   "execution_count": 7,
   "metadata": {},
   "outputs": [],
   "source": [
    "# This function gets NDVI from Landsat 5 imagery.\n",
    "def ndviLs457(image):\n",
    "    return image.normalizedDifference(['B4', 'B3'])\n"
   ]
  },
  {
   "cell_type": "code",
   "execution_count": 8,
   "metadata": {},
   "outputs": [],
   "source": [
    "def getND(x, y, startDate, endDate, satellite, cloudness):\n",
    "    # 対象地点のジオメトリを生成\n",
    "    point = ee.Geometry.Point([x, y])\n",
    "    #開始日の日付を'YYYY-MM-DD'形式で指定する\n",
    "    startDay = ee.Date(startDate)\n",
    "    #終了日の日付を'YYYY-MM-DD'形式で指定する\n",
    "    endDay = ee.Date(endDate)\n",
    "    if satellite == 'sn2':\n",
    "        collection = ee.ImageCollection('COPERNICUS/S2').filterDate(startDay, endDay).filterBounds(point)\\\n",
    "        .filter(ee.Filter.lt('CLOUDY_PIXEL_PERCENTAGE', cloudness)).map(s2_mask_cdi)\n",
    "        medianImage = collection.median()\n",
    "        ndImage = medianImage.addBands(medianImage.normalizedDifference(['B8', 'B4']))\n",
    "        return ndImage\n",
    "    elif satellite == 'ls8':\n",
    "        collection = ee.ImageCollection('LANDSAT/LC08/C01/T1_TOA').filterDate(startDay, endDay).filterBounds(point)\\\n",
    "        .filter(ee.Filter.lt('CLOUD_COVER', cloudness)).map(maskL8toa)\n",
    "        medianImage = collection.median()\n",
    "        ndImage = medianImage.addBands(medianImage.normalizedDifference(['B5', 'B4']))\n",
    "        return ndImage\n",
    "\n",
    "    elif satellite == 'ls7':\n",
    "        collection = ee.ImageCollection('LANDSAT/LE07/C01/T1_SR').filterDate(startDay, endDay).filterBounds(point)\\\n",
    "        .filter(ee.Filter.lt('CLOUD_COVER_LAND', cloudness)).map(cloudMaskL457)\n",
    "        medianImage = collection.median()\n",
    "        ndImage = medianImage.addBands(medianImage.normalizedDifference(['B4', 'B3']))\n",
    "        return ndImage\n",
    "\n",
    "    elif satellite == 'ls5':\n",
    "        collection = ee.ImageCollection('LANDSAT/LT05/C01/T1_SR').filterDate(startDay, endDay).filterBounds(point)\\\n",
    "        .filter(ee.Filter.lt('CLOUD_COVER_LAND', cloudness)).map(cloudMaskL457)\n",
    "        medianImage = collection.median()\n",
    "        ndImage = medianImage.addBands(medianImage.normalizedDifference(['B4', 'B3']))\n",
    "        return ndImage\n",
    "    \n",
    "    else:\n",
    "        return 0"
   ]
  },
  {
   "cell_type": "code",
   "execution_count": 9,
   "metadata": {},
   "outputs": [],
   "source": [
    "# Set the dimention of study area\n",
    "x_size = 0.5 # size of roi in decimal degree\n",
    "y_size = 0.5 # size of roi in decimal degree"
   ]
  },
  {
   "cell_type": "code",
   "execution_count": 10,
   "metadata": {},
   "outputs": [],
   "source": [
    "# Set the term of search period\n",
    "af_term = 120\n",
    "bf_term = 120\n",
    "# Set the cloudness. Data below this value will be selected.\n",
    "af_cloudness = 30\n",
    "bf_cloudness = 30"
   ]
  },
  {
   "cell_type": "code",
   "execution_count": 11,
   "metadata": {},
   "outputs": [],
   "source": [
    "# data csv file was dlownloaded from above site and was renamed\n",
    "lsdf=pd.read_csv(\"dbase_nasa/GLC20200719.csv\")"
   ]
  },
  {
   "cell_type": "code",
   "execution_count": 12,
   "metadata": {},
   "outputs": [],
   "source": [
    "lsdf['date']=pd.to_datetime(lsdf['event_date'])"
   ]
  },
  {
   "cell_type": "code",
   "execution_count": 13,
   "metadata": {},
   "outputs": [],
   "source": [
    "# Specify event record\n",
    "#id_roi = '10775'\n",
    "#id_roi = '10769'\n",
    "id_roi = '9734'\n",
    "#id_roi = '5463'\n",
    "\n",
    "# variable become avairable by using @\n",
    "df_roi = lsdf.query('event_id==@id_roi')"
   ]
  },
  {
   "cell_type": "code",
   "execution_count": 14,
   "metadata": {},
   "outputs": [
    {
     "data": {
      "text/html": [
       "<div>\n",
       "<style scoped>\n",
       "    .dataframe tbody tr th:only-of-type {\n",
       "        vertical-align: middle;\n",
       "    }\n",
       "\n",
       "    .dataframe tbody tr th {\n",
       "        vertical-align: top;\n",
       "    }\n",
       "\n",
       "    .dataframe thead th {\n",
       "        text-align: right;\n",
       "    }\n",
       "</style>\n",
       "<table border=\"1\" class=\"dataframe\">\n",
       "  <thead>\n",
       "    <tr style=\"text-align: right;\">\n",
       "      <th></th>\n",
       "      <th>source_name</th>\n",
       "      <th>source_link</th>\n",
       "      <th>event_id</th>\n",
       "      <th>event_date</th>\n",
       "      <th>event_time</th>\n",
       "      <th>event_title</th>\n",
       "      <th>event_description</th>\n",
       "      <th>location_description</th>\n",
       "      <th>location_accuracy</th>\n",
       "      <th>landslide_category</th>\n",
       "      <th>...</th>\n",
       "      <th>admin_division_name</th>\n",
       "      <th>admin_division_population</th>\n",
       "      <th>gazeteer_closest_point</th>\n",
       "      <th>gazeteer_distance</th>\n",
       "      <th>submitted_date</th>\n",
       "      <th>created_date</th>\n",
       "      <th>last_edited_date</th>\n",
       "      <th>longitude</th>\n",
       "      <th>latitude</th>\n",
       "      <th>date</th>\n",
       "    </tr>\n",
       "  </thead>\n",
       "  <tbody>\n",
       "    <tr>\n",
       "      <th>252</th>\n",
       "      <td>LA Times</td>\n",
       "      <td>http://www.latimes.com/local/lanow/la-me-ln-bi...</td>\n",
       "      <td>9734</td>\n",
       "      <td>05/20/2017 01:34:00 PM</td>\n",
       "      <td>NaN</td>\n",
       "      <td>Big Sur Landslide</td>\n",
       "      <td>Massive section of hillside on Big Sur at Mud ...</td>\n",
       "      <td>Mud Creek, on Highway 1</td>\n",
       "      <td>exact</td>\n",
       "      <td>landslide</td>\n",
       "      <td>...</td>\n",
       "      <td>NaN</td>\n",
       "      <td>NaN</td>\n",
       "      <td>NaN</td>\n",
       "      <td>NaN</td>\n",
       "      <td>06/16/2017 01:34:00 PM</td>\n",
       "      <td>11/20/2017 03:17:00 PM</td>\n",
       "      <td>02/15/2018 03:51:00 PM</td>\n",
       "      <td>-121.432384</td>\n",
       "      <td>35.865628</td>\n",
       "      <td>2017-05-20 13:34:00</td>\n",
       "    </tr>\n",
       "  </tbody>\n",
       "</table>\n",
       "<p>1 rows × 32 columns</p>\n",
       "</div>"
      ],
      "text/plain": [
       "    source_name                                        source_link  event_id  \\\n",
       "252    LA Times  http://www.latimes.com/local/lanow/la-me-ln-bi...      9734   \n",
       "\n",
       "                 event_date  event_time        event_title  \\\n",
       "252  05/20/2017 01:34:00 PM         NaN  Big Sur Landslide   \n",
       "\n",
       "                                     event_description  \\\n",
       "252  Massive section of hillside on Big Sur at Mud ...   \n",
       "\n",
       "        location_description location_accuracy landslide_category  ...  \\\n",
       "252  Mud Creek, on Highway 1             exact          landslide  ...   \n",
       "\n",
       "    admin_division_name admin_division_population gazeteer_closest_point  \\\n",
       "252                 NaN                       NaN                    NaN   \n",
       "\n",
       "     gazeteer_distance          submitted_date            created_date  \\\n",
       "252                NaN  06/16/2017 01:34:00 PM  11/20/2017 03:17:00 PM   \n",
       "\n",
       "           last_edited_date   longitude   latitude                date  \n",
       "252  02/15/2018 03:51:00 PM -121.432384  35.865628 2017-05-20 13:34:00  \n",
       "\n",
       "[1 rows x 32 columns]"
      ]
     },
     "execution_count": 14,
     "metadata": {},
     "output_type": "execute_result"
    }
   ],
   "source": [
    "# Print the event record\n",
    "df_roi.head()"
   ]
  },
  {
   "cell_type": "code",
   "execution_count": 15,
   "metadata": {},
   "outputs": [],
   "source": [
    "eventDate = df_roi['date']"
   ]
  },
  {
   "cell_type": "code",
   "execution_count": 16,
   "metadata": {},
   "outputs": [
    {
     "data": {
      "text/plain": [
       "252   2017-05-20 13:34:00\n",
       "Name: date, dtype: datetime64[ns]"
      ]
     },
     "execution_count": 16,
     "metadata": {},
     "output_type": "execute_result"
    }
   ],
   "source": [
    "eventDate"
   ]
  },
  {
   "cell_type": "code",
   "execution_count": 17,
   "metadata": {},
   "outputs": [
    {
     "name": "stderr",
     "output_type": "stream",
     "text": [
      "C:\\Users\\hirom\\Anaconda3\\envs\\GEE\\lib\\site-packages\\ipykernel_launcher.py:1: DeprecationWarning: parsing timezone aware datetimes is deprecated; this will raise an error in the future\n",
      "  \"\"\"Entry point for launching an IPython kernel.\n"
     ]
    }
   ],
   "source": [
    "ts = (eventDate - np.datetime64('1970-01-01T00:00:00Z')) / np.timedelta64(1, 's')\n",
    "eventDateDt = datetime.datetime.utcfromtimestamp(ts)"
   ]
  },
  {
   "cell_type": "code",
   "execution_count": 18,
   "metadata": {},
   "outputs": [
    {
     "data": {
      "text/plain": [
       "datetime.datetime(2017, 5, 20, 13, 34)"
      ]
     },
     "execution_count": 18,
     "metadata": {},
     "output_type": "execute_result"
    }
   ],
   "source": [
    "eventDateDt"
   ]
  },
  {
   "cell_type": "code",
   "execution_count": 19,
   "metadata": {},
   "outputs": [
    {
     "data": {
      "text/plain": [
       "'2017-05-20'"
      ]
     },
     "execution_count": 19,
     "metadata": {},
     "output_type": "execute_result"
    }
   ],
   "source": [
    "eventDateDt.strftime('%Y-%m-%d')"
   ]
  },
  {
   "cell_type": "code",
   "execution_count": 20,
   "metadata": {},
   "outputs": [],
   "source": [
    "# 指定した日付に有効な衛星のコードを返す関数\n",
    "def SatFromDate(date):\n",
    "    sn2Start = datetime.datetime(2015, 6, 23)\n",
    "    ls8Start = datetime.datetime(2013, 4, 1)\n",
    "    ls7Start = datetime.datetime(1999, 1, 1)\n",
    "    ls5Start = datetime.datetime(1984, 5, 1)\n",
    "    if date > sn2Start:\n",
    "        return 'sn2'\n",
    "    elif date > ls8Start:\n",
    "            return 'ls8'\n",
    "    elif date > ls7Start:\n",
    "            return 'ls7'\n",
    "    elif date > ls5Start:\n",
    "            return 'ls5'\n",
    "    else:\n",
    "            return 0"
   ]
  },
  {
   "cell_type": "code",
   "execution_count": 21,
   "metadata": {},
   "outputs": [],
   "source": [
    "stringDate = eventDateDt.strftime('%Y-%m-%d')"
   ]
  },
  {
   "cell_type": "code",
   "execution_count": 22,
   "metadata": {},
   "outputs": [
    {
     "data": {
      "text/plain": [
       "datetime.datetime(2017, 5, 20, 13, 34)"
      ]
     },
     "execution_count": 22,
     "metadata": {},
     "output_type": "execute_result"
    }
   ],
   "source": [
    "eventDateDt"
   ]
  },
  {
   "cell_type": "code",
   "execution_count": 23,
   "metadata": {},
   "outputs": [],
   "source": [
    "af_startDate = eventDateDt + datetime.timedelta(days=1)\n",
    "af_startDateString = af_startDate.strftime('%Y-%m-%d')\n",
    "af_endDate = af_startDate + datetime.timedelta(days=af_term)\n",
    "af_endDateString = af_endDate.strftime('%Y-%m-%d')\n",
    "\n",
    "bf_startDate = af_startDate - datetime.timedelta(days=365)\n",
    "bf_startDateString = bf_startDate.strftime('%Y-%m-%d')\n",
    "\n",
    "bf_endDate = bf_startDate + datetime.timedelta(days=bf_term)\n",
    "bf_endDateString = bf_endDate.strftime('%Y-%m-%d')\n",
    "\n",
    "af_sat = SatFromDate(datetime.datetime.strptime(af_startDateString, '%Y-%m-%d') )\n",
    "bf_sat = SatFromDate(datetime.datetime.strptime(bf_startDateString, '%Y-%m-%d') )"
   ]
  },
  {
   "cell_type": "code",
   "execution_count": 24,
   "metadata": {},
   "outputs": [],
   "source": [
    "x_roi = df_roi['longitude']\n",
    "y_roi = df_roi['latitude']\n",
    "x_roi=float(x_roi)\n",
    "y_roi=float(y_roi)"
   ]
  },
  {
   "cell_type": "code",
   "execution_count": 25,
   "metadata": {},
   "outputs": [],
   "source": [
    "x_min = x_roi - x_size * 0.5\n",
    "x_max = x_roi + x_size * 0.5\n",
    "y_min = y_roi - y_size * 0.5\n",
    "y_max = y_roi + y_size * 0.5"
   ]
  },
  {
   "cell_type": "code",
   "execution_count": 26,
   "metadata": {},
   "outputs": [],
   "source": [
    "af_Image=getND(x_roi, y_roi, af_startDateString, af_endDateString, af_sat, af_cloudness)\n",
    "bf_Image=getND(x_roi, y_roi, bf_startDateString, bf_endDateString, bf_sat, bf_cloudness)"
   ]
  },
  {
   "cell_type": "code",
   "execution_count": 27,
   "metadata": {},
   "outputs": [],
   "source": [
    "af_nd = af_Image.select('nd')\n",
    "bf_nd = bf_Image.select('nd')\n",
    "nd_def = af_nd.subtract(bf_nd)"
   ]
  },
  {
   "cell_type": "code",
   "execution_count": 28,
   "metadata": {},
   "outputs": [],
   "source": [
    "alos_chiri = ee.Image(\"CSP/ERGo/1_0/Global/ALOS_CHILI\").select('constant')\n",
    "alosChiliVis = {min: 0.0, max: 255.0}\n",
    "\n",
    "#alosMtpi = ee.Image(\"CSP/ERGo/1_0/Global/ALOS_mTPI\").select('AVE')\n",
    "#alosMtpiVis = {min: -200.0, max: 200.0, 'palette': ['0b1eff', '4be450', 'fffca4', 'ffa011', 'ff0000'],}"
   ]
  },
  {
   "cell_type": "code",
   "execution_count": 29,
   "metadata": {},
   "outputs": [],
   "source": [
    "# Set the study area\n",
    "roi = ee.Geometry.Rectangle([x_min, y_min, x_max, y_max])"
   ]
  },
  {
   "cell_type": "code",
   "execution_count": 30,
   "metadata": {},
   "outputs": [
    {
     "name": "stdout",
     "output_type": "stream",
     "text": [
      "layer already on map: TileLayer(attribution='Google', name='Google Maps', options=['attribution', 'detect_retina', 'max_native_zoom', 'max_zoom', 'min_native_zoom', 'min_zoom', 'no_wrap', 'tile_size', 'tms'], url='https://mt1.google.com/vt/lyrs=m&x={x}&y={y}&z={z}')\n",
      "Basemap can only be one of the following:\n",
      "  ROADMAP\n",
      "  SATELLITE\n",
      "  TERRAIN\n",
      "  HYBRID\n",
      "  ESRI\n",
      "  Esri Ocean\n",
      "  Esri Satellite\n",
      "  Esri Standard\n",
      "  Esri Terrain\n",
      "  Esri Transportation\n",
      "  Esri Topo World\n",
      "  Esri National Geographic\n",
      "  Esri Shaded Relief\n",
      "  Esri Physical Map\n",
      "  FWS NWI Wetlands\n",
      "  FWS NWI Wetlands Raster\n",
      "  Google Maps\n",
      "  Google Satellite\n",
      "  Google Terrain\n",
      "  Google Satellite Hybrid\n",
      "  NLCD 2016 CONUS Land Cover\n",
      "  NLCD 2013 CONUS Land Cover\n",
      "  NLCD 2011 CONUS Land Cover\n",
      "  NLCD 2008 CONUS Land Cover\n",
      "  NLCD 2006 CONUS Land Cover\n",
      "  NLCD 2004 CONUS Land Cover\n",
      "  NLCD 2001 CONUS Land Cover\n",
      "  USGS NAIP Imagery\n",
      "  USGS Hydrography\n",
      "  USGS 3DEP Elevation\n",
      "  OpenStreetMap.Mapnik\n",
      "  OpenStreetMap.BlackAndWhite\n",
      "  OpenStreetMap.DE\n",
      "  OpenStreetMap.France\n",
      "  OpenStreetMap.HOT\n",
      "  OpenTopoMap\n",
      "  Hydda.Full\n",
      "  Hydda.Base\n",
      "  Esri.WorldStreetMap\n",
      "  Esri.DeLorme\n",
      "  Esri.WorldTopoMap\n",
      "  Esri.WorldImagery\n",
      "  Esri.NatGeoWorldMap\n",
      "  HikeBike.HikeBike\n",
      "  MtbMap\n",
      "  CartoDB.Positron\n",
      "  CartoDB.DarkMatter\n",
      "  NASAGIBS.ModisTerraTrueColorCR\n",
      "  NASAGIBS.ModisTerraBands367CR\n",
      "  NASAGIBS.ModisTerraBands721CR\n",
      "  NASAGIBS.ModisAquaTrueColorCR\n",
      "  NASAGIBS.ModisAquaBands721CR\n",
      "  NASAGIBS.ViirsTrueColorCR\n",
      "  NASAGIBS.ViirsEarthAtNight2012\n",
      "  NASAGIBS.BlueMarble3413\n",
      "  NASAGIBS.BlueMarble3031\n",
      "  NASAGIBS.BlueMarble\n",
      "  Strava.All\n",
      "  Strava.Ride\n",
      "  Strava.Run\n",
      "  Strava.Water\n",
      "  Strava.Winter\n",
      "  Stamen.Terrain\n",
      "  Stamen.Toner\n",
      "  Stamen.Watercolor\n"
     ]
    }
   ],
   "source": [
    "Map = emap.Map(center=[y_roi, x_roi], zoom=13)\n",
    "Map.add_basemap('ROADMAP') # Add Google Map\n",
    "Map.add_basemap('SATELLITE') # Add Satellite image"
   ]
  },
  {
   "cell_type": "code",
   "execution_count": 31,
   "metadata": {},
   "outputs": [],
   "source": [
    "af_title = af_startDateString + '-' + af_endDateString + ' (' + af_sat + ')'\n",
    "bf_title = bf_startDateString + '-' + bf_endDateString + ' (' + bf_sat + ')'"
   ]
  },
  {
   "cell_type": "code",
   "execution_count": 32,
   "metadata": {},
   "outputs": [
    {
     "data": {
      "text/plain": [
       "<ee.image.Image at 0x1b6ae29d630>"
      ]
     },
     "execution_count": 32,
     "metadata": {},
     "output_type": "execute_result"
    }
   ],
   "source": [
    "bf_nd"
   ]
  },
  {
   "cell_type": "code",
   "execution_count": 33,
   "metadata": {},
   "outputs": [],
   "source": [
    "def truecolorVis(satellite):\n",
    "    if satellite == 'sn2':\n",
    "        return {'min': 500, 'max': 2000, 'gamma': 2.5, 'bands': ['B4', 'B3', 'B2']}\n",
    "    elif satellite == 'ls8':\n",
    "        return {'min': 0.0, 'max': 0.3, 'gamma': 2.5, 'bands': ['B4', 'B3', 'B2']}\n",
    "    elif satellite == 'ls7':\n",
    "        return {'min': 0, 'max': 3000, 'gamma': 1.4, 'bands': ['B3', 'B2', 'B1']}\n",
    "    elif satellite == 'ls5':\n",
    "        return {'min': 0, 'max': 3000, 'gamma': 1.4, 'bands': ['B3', 'B2', 'B1']}\n",
    "    else:\n",
    "        return {'min': 0.0, 'max': 0.3, 'bands': ['B3', 'B2', 'B1']}\n"
   ]
  },
  {
   "cell_type": "code",
   "execution_count": 34,
   "metadata": {},
   "outputs": [],
   "source": [
    "#rgbVis = {'min': 0.0, 'max': 0.3, 'bands': ['B4', 'B3', 'B2']}\n",
    "ndDefParams ={'min': -0.5, 'max': 0.5, 'palette': ['FFFF00','FF0000','FFFFFF', '00FFFF','0000FF']}"
   ]
  },
  {
   "cell_type": "code",
   "execution_count": 35,
   "metadata": {},
   "outputs": [],
   "source": [
    "Map.addLayer(alos_chiri, alosChiliVis, 'ALOS CHILI')\n",
    "#Map.addLayer(alosMtpi, alosMtpiVis, 'ALOS mTPI');\n",
    "Map.addLayer(bf_Image, truecolorVis(bf_sat), bf_title)\n",
    "Map.addLayer(af_Image, truecolorVis(af_sat), af_title)\n",
    "Map.addLayer(nd_def, ndDefParams, 'NDVI change')"
   ]
  },
  {
   "cell_type": "code",
   "execution_count": 36,
   "metadata": {},
   "outputs": [
    {
     "data": {
      "application/vnd.jupyter.widget-view+json": {
       "model_id": "c6b87ced3dc34779a3460e876077a087",
       "version_major": 2,
       "version_minor": 0
      },
      "text/plain": [
       "Map(center=[35.86562803, -121.4323838], controls=(WidgetControl(options=['position'], widget=HBox(children=(To…"
      ]
     },
     "metadata": {},
     "output_type": "display_data"
    }
   ],
   "source": [
    "Map"
   ]
  }
 ],
 "metadata": {
  "kernelspec": {
   "display_name": "Python 3",
   "language": "python",
   "name": "python3"
  },
  "language_info": {
   "codemirror_mode": {
    "name": "ipython",
    "version": 3
   },
   "file_extension": ".py",
   "mimetype": "text/x-python",
   "name": "python",
   "nbconvert_exporter": "python",
   "pygments_lexer": "ipython3",
   "version": "3.6.10"
  }
 },
 "nbformat": 4,
 "nbformat_minor": 4
}
